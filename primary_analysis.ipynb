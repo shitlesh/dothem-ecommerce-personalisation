{
 "cells": [
  {
   "metadata": {},
   "cell_type": "markdown",
   "source": "# Dohtem E-commerce Personalization Strategy #",
   "id": "8235bd573cd862e9"
  },
  {
   "metadata": {},
   "cell_type": "markdown",
   "source": "Setup and Imports",
   "id": "e7c9cf9ee0526660"
  },
  {
   "metadata": {},
   "cell_type": "code",
   "source": [
    "import pandas as pd\n",
    "import numpy as np\n",
    "import matplotlib.pyplot as plt\n",
    "import seaborn as sns\n",
    "import warnings\n",
    "from datetime import datetime\n",
    "import pickle\n",
    "import json\n",
    "import os"
   ],
   "id": "a4846bae812031a4",
   "outputs": [],
   "execution_count": null
  },
  {
   "metadata": {},
   "cell_type": "markdown",
   "source": "Configure Plotting",
   "id": "7422f79fe0296a6"
  },
  {
   "metadata": {},
   "cell_type": "code",
   "source": [
    "plt.style.use('seaborn-v0_8')\n",
    "sns.set_palette('husl')\n",
    "warnings.filterwarnings('ignore')"
   ],
   "id": "7c1c2245c83bab78",
   "outputs": [],
   "execution_count": null
  },
  {
   "metadata": {},
   "cell_type": "markdown",
   "source": "Set random seed for reproducibility",
   "id": "8865b299d23ff3de"
  },
  {
   "metadata": {},
   "cell_type": "code",
   "source": [
    "np.random.seed(42)\n",
    "print(\"Libraries imported successfully!\"),\n",
    "print(f\"Analysis Date: {datetime.now().strftime('%Y-%m-%d %H:%M:%S')}\")"
   ],
   "id": "92ef02784023333d",
   "outputs": [],
   "execution_count": null
  },
  {
   "metadata": {},
   "cell_type": "markdown",
   "source": "Custom Modules",
   "id": "75ba901f65d2b4dc"
  },
  {
   "metadata": {},
   "cell_type": "code",
   "source": [
    "from data_processor import DohtemDataProcessor\n",
    "from customer_segmentation import CustomerSegmentation\n",
    "from churn_prediction import ChurnPredictor\n",
    "from personalization_engine import PersonalizationEngine\n",
    "from business_impact import BusinessImpactCalculator\n",
    "from visualization_utils import create_comprehensive_visualizations"
   ],
   "id": "1d0f274e04258176",
   "outputs": [],
   "execution_count": null
  },
  {
   "metadata": {},
   "cell_type": "markdown",
   "source": "Step 1: Data Loading and Exploration",
   "id": "dba2a1802bf8c37e"
  },
  {
   "metadata": {},
   "cell_type": "code",
   "source": [
    "data_processor = DohtemDataProcessor('dohtem_ecommerce_customers.csv')\n",
    "raw_data = data_processor.load_data()"
   ],
   "id": "69b5fbad21f70c26",
   "outputs": [],
   "execution_count": null
  },
  {
   "metadata": {},
   "cell_type": "markdown",
   "source": "Display Basic Information",
   "id": "7029cda16c0937c"
  },
  {
   "metadata": {},
   "cell_type": "code",
   "source": [
    "print(f\"Dataset Shape: {raw_data.shape}\"),\n",
    "print(f\" Target Variable Distribution:\"),\n",
    "print(raw_data['Churn'].value_counts(normalize=True).round(3)),\n",
    "print(f\"First few rows: {display(raw_data.head())}\")"
   ],
   "id": "c1a9bf22e4168d83",
   "outputs": [],
   "execution_count": null
  },
  {
   "metadata": {},
   "cell_type": "markdown",
   "source": "Comprehensive data exploration",
   "id": "bb702d618e16eab1"
  },
  {
   "metadata": {},
   "cell_type": "code",
   "source": [
    "missing_analysis = data_processor.explore_data()\n",
    "# Visualize missing data if any exists\n",
    "plt.figure(figsize=(12, 6))\n",
    "missing_data = missing_analysis[missing_analysis['Missing_Count'] > 0].sort_values('Missing_Percent')\n",
    "\n",
    "if not missing_data.empty:\n",
    "    plt.barh(missing_data.index, missing_data['Missing_Percent'])\n",
    "    plt.xlabel('Missing Data Percentage')\n",
    "    plt.title('Missing Data Analysis by Feature')\n",
    "    plt.tight_layout()\n",
    "    plt.show()\n",
    "else:\n",
    "    print(\"No missing data\")"
   ],
   "id": "5108a4975e5a8ace",
   "outputs": [],
   "execution_count": null
  },
  {
   "metadata": {},
   "cell_type": "markdown",
   "source": "Step 2: Data Preprocessing",
   "id": "3a3510fd2622018c"
  },
  {
   "metadata": {},
   "cell_type": "code",
   "source": [
    "# Process the data\n",
    "processed_data = data_processor.preprocess_data()\n",
    "print(\"Data preprocessing completed!\")\n",
    "print(f\"New features created: {processed_data.shape[1] - raw_data.shape[1]}\")\n",
    "\n",
    "# Show the engineered features\n",
    "new_features = ['CustomerValueScore', 'EngagementScore', 'HighRiskCategory','HighRiskPayment', 'LowSatisfaction']\n",
    "print(\"New Engineer Features:\")\n",
    "for feature in new_features:\n",
    "    if feature in processed_data.columns:\n",
    "         print(f\"{feature}: Mean = {processed_data[feature].mean():.2f}, Std = {processed_data[feature].std():.2f}\")\n",
    "\n",
    " # Display processed data samples\n",
    "display(processed_data[['CustomerID', 'Churn'] + new_features].head())"
   ],
   "id": "eb636dd6c88c0f13",
   "outputs": [],
   "execution_count": null
  },
  {
   "metadata": {},
   "cell_type": "markdown",
   "source": "Step 3: Customer Segmentation - Use K-Means clustering to identify distinct customer segments",
   "id": "1ce188d7c46e1547"
  },
  {
   "metadata": {},
   "cell_type": "code",
   "source": [
    "# Initialize segmentation model\n",
    "segmentation = CustomerSegmentation(n_clusters=5)\n",
    "segmented_data = segmentation.fit_segments(processed_data.copy())\n",
    "\n",
    "# Create models directory if it doesn't exist\n",
    "os.makedirs('models', exist_ok=True)\n",
    "\n",
    "# Save segmentation mode\n",
    "segmentation.save_model('models/customer_segmentation_model.pkl')\n",
    "print(f\"{segmentation.n_clusters} customer segments identified\")\n",
    "print(\"Customer Segmentation model saved to: models/customer_segmentation_model.pkl\")"
   ],
   "id": "7490d920ab1d1817",
   "outputs": [],
   "execution_count": null
  },
  {
   "metadata": {},
   "cell_type": "markdown",
   "source": "Visualize customer segments",
   "id": "9307ea56831e6683"
  },
  {
   "metadata": {},
   "cell_type": "code",
   "source": [
    "fig = segmentation.plot_segments(figsize=(15, 10))\n",
    "plt.suptitle('Customer Segmentation Analysis', fontsize=16, y=1.02)\n",
    "plt.tight_layout()\n",
    "plt.show()\n",
    "\n",
    "# Display segment profiles\n",
    "segment_summary = segmentation.get_segment_summary()\n",
    "print(f\"Customer Segmentation Summary:\")\n",
    "display(segment_summary)"
   ],
   "id": "123c2c3e3b7ec590",
   "outputs": [],
   "execution_count": null
  },
  {
   "metadata": {},
   "cell_type": "markdown",
   "source": "Step 4: Churn Prediction Model",
   "id": "cc80b50143a55372"
  },
  {
   "metadata": {},
   "cell_type": "code",
   "source": [
    "# Initialize churn predictor\n",
    "churn_predictor = ChurnPredictor()\n",
    "print(\"Training Churn Prediction Model...\")\n",
    "churn_model_results = churn_predictor.train_model(segmented_data)\n",
    "\n",
    "# Save the trained model\n",
    "churn_predictor.save_model('models/churn_prediction_model.pkl')\n",
    "print(\"Churn Prediction Model training completed!\")\n",
    "print(f\"Model AUC Score: {churn_model_results['test_auc']:.4f}\")\n",
    "print(\"Churn Prediction Model saved to: models/churn_prediction_model.pkl\")"
   ],
   "id": "43a459bab55ad448",
   "outputs": [],
   "execution_count": null
  },
  {
   "metadata": {},
   "cell_type": "markdown",
   "source": "Visualize model performance",
   "id": "7f0426ecd42cd368"
  },
  {
   "metadata": {},
   "cell_type": "code",
   "source": [
    "fig = churn_predictor.plot_model_performance(figsize=(15, 5))\n",
    "plt.suptitle('Churn Prediction Model Performance', fontsize=16, y=1.02)\n",
    "plt.tight_layout()\n",
    "plt.show()\n",
    "\n",
    "print(\"Top 10 Most Important Features for Churn Prediction:\")\n",
    "feature_importance = churn_predictor.get_feature_importance()\n",
    "display(feature_importance.head(10))"
   ],
   "id": "2860839a0cfdcfee",
   "outputs": [],
   "execution_count": null
  },
  {
   "metadata": {},
   "cell_type": "markdown",
   "source": "Step 5: Personalization Strategy Development",
   "id": "12cf4be069fe5411"
  },
  {
   "metadata": {},
   "cell_type": "code",
   "source": [
    "# Initialize personalization engine\n",
    "personalization_engine = PersonalizationEngine()\n",
    "\n",
    "# Create personalization strategies\n",
    "strategies = personalization_engine.create_personalization_strategies(segmentation, churn_predictor)\n",
    "\n",
    "# Create strategies directory\n",
    "os.makedirs('strategies', exist_ok=True)\n",
    "\n",
    "# Save strategies\n",
    "personalization_engine.save_strategies('strategies/personalization_strategies.json')\n",
    "\n",
    "print(\"Personalization strategies developed!\")\n",
    "print(f\"{len(strategies)} segment-specific strategies created\")\n",
    "print(\"Strategies saved to: strategies/personalization_strategies.json\")"
   ],
   "id": "de9b400d8cb8d115",
   "outputs": [],
   "execution_count": null
  },
  {
   "metadata": {},
   "cell_type": "markdown",
   "source": "Display strategy summary",
   "id": "77ae894e411011a"
  },
  {
   "metadata": {},
   "cell_type": "code",
   "source": [
    "strategy_summary = personalization_engine.get_strategy_summary()\n",
    "print(\"PERSONALIZATION STRATEGY SUMMARY:\")\n",
    "display(strategy_summary)\n",
    "\n",
    "# Visualize strategies\n",
    "fig = personalization_engine.plot_strategy_overview(figsize=(12, 8))\n",
    "plt.suptitle('Personalization Strategies by Segment', fontsize=16, y=1.02)\n",
    "plt.tight_layout()\n",
    "plt.show()"
   ],
   "id": "f75c2930088daa04",
   "outputs": [],
   "execution_count": null
  },
  {
   "metadata": {},
   "cell_type": "markdown",
   "source": "Step 6: Business Impact Analysis",
   "id": "4025b99e6f241c87"
  },
  {
   "metadata": {},
   "cell_type": "code",
   "source": [
    "# Initialize business impact calculator\n",
    "impact_calculator = BusinessImpactCalculator(avg_customer_value=1200, implementation_cost=225000)\n",
    "\n",
    "#Calculate Business Impact\n",
    "business_impact = impact_calculator.calculate_comprehensive_impact(segmented_data, strategies)\n",
    "\n",
    "# Create reports directory\n",
    "os.makedirs('reports', exist_ok=True)\n",
    "\n",
    "# Save business impact analysis\n",
    "impact_calculator.save_analysis('reports/business_impact_analysis.json')\n",
    "\n",
    "print(\"Business impact analysis completed!\")\n",
    "print(f\"Total Revenue Impact: ${business_impact['total_revenue_impact']:,.0f}\")\n",
    "print(f\"ROI: {business_impact['roi_percentage']:.0f}%\")\n",
    "print(\"Analysis saved to: reports/business_impact_analysis.json\")"
   ],
   "id": "887bb61bceacbd81",
   "outputs": [],
   "execution_count": null
  },
  {
   "metadata": {},
   "cell_type": "markdown",
   "source": "Display detailed business impact metrics",
   "id": "ff6592b06b1c33ff"
  },
  {
   "metadata": {},
   "cell_type": "code",
   "source": [
    "impact_summary = impact_calculator.get_impact_summary()\n",
    "print(\"BUSINESS IMPACT SUMMARY:\")\n",
    "display(impact_summary)\n",
    "\n",
    "# Visualize business impact\n",
    "fig = impact_calculator.plot_impact_analysis(figsize=(15, 10))\n",
    "plt.suptitle('Business Impact Analysis', fontsize=16, y=1.02)\n",
    "plt.tight_layout()\n",
    "plt.show()"
   ],
   "id": "856a47d909329b2b",
   "outputs": [],
   "execution_count": null
  },
  {
   "metadata": {},
   "cell_type": "markdown",
   "source": "Step 7: Sample Customer Recommendations",
   "id": "21254a9970eb85f4"
  },
  {
   "metadata": {},
   "cell_type": "code",
   "source": [
    "# Generate sample recommendations for each segment\n",
    "sample_recommendations = personalization_engine.generate_sample_recommendations(segmented_data, churn_predictor, n_samples_per_segment=2)\n",
    "\n",
    "# Create recommendations directory\n",
    "os.makedirs('recommendations', exist_ok=True)\n",
    "\n",
    "# Save recommendations\n",
    "with open('recommendations/sample_customer_recommendations.json', 'w') as f:\n",
    "    json.dump(sample_recommendations, f, indent=2, default=str)\n",
    "\n",
    "print(\"Sample recommendations generated!\")\n",
    "print(f\"{len(sample_recommendations)} customer recommendations created\")\n",
    "print(\"Saved to: recommendations/sample_customer_recommendations.json\")"
   ],
   "id": "e1e48c7f3cf71a59",
   "outputs": [],
   "execution_count": null
  },
  {
   "metadata": {},
   "cell_type": "markdown",
   "source": "Display sample recommendations",
   "id": "601027907a073a0"
  },
  {
   "metadata": {},
   "cell_type": "code",
   "source": [
    "print(\"SAMPLE CUSTOMER RECOMMENDATIONS:\")\n",
    "for i, rec in enumerate(sample_recommendations[:5]):\n",
    "    print(f\"Customer {rec['customer_id']} (Segment {rec['segment']}):\")\n",
    "    print(f\"Risk Level: {rec['risk_level']} ({rec['churn_probability']:.2%})\")\n",
    "    print(f\"Strategy: {rec['strategy_type']}\")\n",
    "    print(\"Top Actions:\")\n",
    "    for j, action in enumerate(rec['personalization_actions'][:3], 1):\n",
    "        print(f\"     {j}: {action}\")"
   ],
   "id": "217bf3e7afff9f01",
   "outputs": [],
   "execution_count": null
  },
  {
   "metadata": {},
   "cell_type": "markdown",
   "source": "Step 8: Comprehensive Visualizations",
   "id": "d64404dca2cb8a71"
  },
  {
   "metadata": {},
   "cell_type": "code",
   "source": [
    "# Create comprehensive visualization suite\n",
    "viz_results = create_comprehensive_visualizations(\n",
    "    raw_data=raw_data,\n",
    "    processed_data=segmented_data,\n",
    "    segmentation_model=segmentation,\n",
    "    churn_model=churn_predictor,\n",
    "    business_impact=business_impact,\n",
    "    strategies=strategies)\n",
    "\n",
    "print(\"Comprehensive visualizations created!\")\n",
    "print(f\"{len(viz_results)} visualization files saved in 'visualizations/' directory\")"
   ],
   "id": "a93c06385c81c9a3",
   "outputs": [],
   "execution_count": null
  },
  {
   "metadata": {},
   "cell_type": "markdown",
   "source": "Step 9: Save Final Results",
   "id": "6a8e9dcfd130793c"
  },
  {
   "metadata": {},
   "cell_type": "code",
   "source": [
    "# Create data/processed directory\n",
    "os.makedirs('data/processed', exist_ok=True)\n",
    "\n",
    "# Save processed dataset\n",
    "segmented_data.to_csv('data/processed/dohtem_processed_with_segments.csv', index=False)\n",
    "print(\"Processed dataset saved: data/processed/dohtem_processed_with_segments.csv\")\n",
    "\n",
    "# Create comprehensive summary report\n",
    "summary_report = {\n",
    "    'analysis_date': datetime.now().isoformat(),\n",
    "    'dataset_info': {\n",
    "    'total_customers': len(segmented_data),\n",
    "    'churn_rate': segmented_data['Churn'].mean(),\n",
    "    'features_count': len(segmented_data.columns)\n",
    "    },\n",
    "    'model_performance': {\n",
    "    'churn_model_auc': churn_model_results['test_auc'],\n",
    "    'segments_identified': segmentation.n_clusters\n",
    "    },\n",
    "    'business_impact': business_impact,\n",
    "    'key_insights': [\n",
    "    \"Counter-intuitive finding: Higher satisfaction scores correlate with higher churn rates\",\n",
    "    \"Mobile/Mobile Phone categories show highest churn risk (27%+)\",\n",
    "    \"Grocery customers demonstrate excellent retention (4.9% churn)\",\n",
    "    f\"{business_impact.get('total_customers_retained', 0):,} high-value, high-risk customers identified as priority segment\",\n",
    "    f\"Expected ROI of {business_impact.get('roi_percentage', 0):.0f}% in Year 1 with ${business_impact.get('total_revenue_impact', 0):,.0f} revenue impact\"\n",
    "    ],\n",
    "    }\n",
    "\n",
    "# Save summary report\n",
    "with open('reports/dohtem_analysis_summary.json', 'w') as f:\n",
    "    json.dump(summary_report, f, indent=2, default=str)\n",
    "print(\"Summary report saved: reports/dohtem_analysis_summary.json\")"
   ],
   "id": "324e361137a06012",
   "outputs": [],
   "execution_count": null
  }
 ],
 "metadata": {},
 "nbformat": 4,
 "nbformat_minor": 5
}
